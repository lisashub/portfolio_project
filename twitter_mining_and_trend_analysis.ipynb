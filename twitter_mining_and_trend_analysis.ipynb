{
 "cells": [
  {
   "cell_type": "markdown",
   "metadata": {},
   "source": [
    "# Twitter Mining and Trend Analysis"
   ]
  },
  {
   "cell_type": "markdown",
   "metadata": {},
   "source": [
    "This marks the beginning of my learning how to mine social media platform data. I'm working with Matthew A. Russel's <u>Mining the Social Web</u>, 2e (2014). I enjoyed using an older version of the text because many of the links, libraries, and screenshots are now outdated. Because  the text was outdated, however, I had the opportunity of building a general idea of what the program should do and figuring out some specifics on my own.\n",
    "\n",
    "For example, I replaced the __twitter__ library that was mentioned in the text with the __tweepy__ library and independently researched the latter's functionality to understand how my solution would differ from the text's. These types of explorations provided me some valuable experience in building a project \"in the wild\" without direct guidance.\n",
    "\n",
    "With that context establish and without further ado - let's begin walking through this project!\n",
    "\n",
    "## Building a Connection to Twitter\n",
    "\n",
    "Before we can delve into Twitter's available data, we'll need to establish a connection to the Twitter API. I've already created API credentials under a Twitter developer account, so we are good to proceed!"
   ]
  },
  {
   "cell_type": "markdown",
   "metadata": {},
   "source": [
    "For our API connection, we're going to use the __tweepy__ module."
   ]
  },
  {
   "cell_type": "code",
   "execution_count": 1,
   "metadata": {},
   "outputs": [],
   "source": [
    "from tweepy import OAuthHandler\n",
    "from tweepy import API\n",
    "import pandas as pd\n",
    "import config"
   ]
  },
  {
   "cell_type": "code",
   "execution_count": 2,
   "metadata": {},
   "outputs": [],
   "source": [
    "auth = OAuthHandler(config.OAuth1, config.OAuth2)\n",
    "auth.set_access_token(config.access_token1, config.access_token2)"
   ]
  },
  {
   "cell_type": "code",
   "execution_count": 3,
   "metadata": {},
   "outputs": [],
   "source": [
    "api = API(auth)"
   ]
  },
  {
   "cell_type": "markdown",
   "metadata": {},
   "source": [
    "To check that our API is successfully hooked up, let's execute the __print__ function. We should get the address of the in-memory object as a result if our API connection was created successfully."
   ]
  },
  {
   "cell_type": "code",
   "execution_count": 4,
   "metadata": {},
   "outputs": [
    {
     "name": "stdout",
     "output_type": "stream",
     "text": [
      "<tweepy.api.API object at 0x000001DA2CC726D0>\n"
     ]
    }
   ],
   "source": [
    "print (api)"
   ]
  },
  {
   "cell_type": "markdown",
   "metadata": {},
   "source": [
    "Success! The above output shows us that our API connection is stored at the above address."
   ]
  },
  {
   "cell_type": "markdown",
   "metadata": {},
   "source": [
    "## Exploring Trending Topics (Comparing Milwaukee, WI, US vs US)"
   ]
  },
  {
   "cell_type": "markdown",
   "metadata": {},
   "source": [
    "We are now connected to a vast world of Twitter data. To put the richness of Twitter's data in context, the platform last estimated that it provided services to over 300 million monthly active accounts in Q1 2019. Because of Twitter's asymmetric following model (i.e. users can follow one another without followbacks), we are able to see patterns of social activity that read more like a global interest graph rather than a social networking structure.\n",
    "\n",
    "In this section, let's get a better feel of what Twitter has to offer by exploring currently trending topics by geolocation. Before delving into trends by geolocation, however, we'll need to know from which locations Twitter is able to report trend data. Each geolocation has a 32-bit identifier code assigned to it (called a Where on Earth ID) that will be helpful for us to retrieve.\n",
    "\n",
    "We can use the __trends_available()__ function to call our Twitter API and ask for all the available locations. We'll set the return message to the variable __woe_avail__."
   ]
  },
  {
   "cell_type": "code",
   "execution_count": 5,
   "metadata": {},
   "outputs": [],
   "source": [
    "woe_avail = api.available_trends()"
   ]
  },
  {
   "cell_type": "markdown",
   "metadata": {},
   "source": [
    "Let's take a sneek peak at the first five items we've received from our call..."
   ]
  },
  {
   "cell_type": "code",
   "execution_count": 6,
   "metadata": {
    "scrolled": true
   },
   "outputs": [
    {
     "name": "stdout",
     "output_type": "stream",
     "text": [
      "[{'name': 'Worldwide', 'placeType': {'code': 19, 'name': 'Supername'}, 'url': 'http://where.yahooapis.com/v1/place/1', 'parentid': 0, 'country': '', 'woeid': 1, 'countryCode': None}, {'name': 'Winnipeg', 'placeType': {'code': 7, 'name': 'Town'}, 'url': 'http://where.yahooapis.com/v1/place/2972', 'parentid': 23424775, 'country': 'Canada', 'woeid': 2972, 'countryCode': 'CA'}, {'name': 'Ottawa', 'placeType': {'code': 7, 'name': 'Town'}, 'url': 'http://where.yahooapis.com/v1/place/3369', 'parentid': 23424775, 'country': 'Canada', 'woeid': 3369, 'countryCode': 'CA'}, {'name': 'Quebec', 'placeType': {'code': 7, 'name': 'Town'}, 'url': 'http://where.yahooapis.com/v1/place/3444', 'parentid': 23424775, 'country': 'Canada', 'woeid': 3444, 'countryCode': 'CA'}, {'name': 'Montreal', 'placeType': {'code': 7, 'name': 'Town'}, 'url': 'http://where.yahooapis.com/v1/place/3534', 'parentid': 23424775, 'country': 'Canada', 'woeid': 3534, 'countryCode': 'CA'}]\n"
     ]
    }
   ],
   "source": [
    "print(woe_avail[:5])"
   ]
  },
  {
   "cell_type": "markdown",
   "metadata": {},
   "source": [
    "It looks like our call was successful, but the output is difficult to read. Let's try looking at only a single element for some clarity..."
   ]
  },
  {
   "cell_type": "code",
   "execution_count": 7,
   "metadata": {},
   "outputs": [
    {
     "data": {
      "text/plain": [
       "{'name': 'Worldwide',\n",
       " 'placeType': {'code': 19, 'name': 'Supername'},\n",
       " 'url': 'http://where.yahooapis.com/v1/place/1',\n",
       " 'parentid': 0,\n",
       " 'country': '',\n",
       " 'woeid': 1,\n",
       " 'countryCode': None}"
      ]
     },
     "execution_count": 7,
     "metadata": {},
     "output_type": "execute_result"
    }
   ],
   "source": [
    "woe_avail[0]"
   ]
  },
  {
   "cell_type": "markdown",
   "metadata": {},
   "source": [
    "Great! We can see that our message returned a list with several sub-elements. For our purposes, we'll only need the 'name' and 'woeid' sub-elements from our response message.\n",
    "\n",
    "Let's create a dictionary containing only the sub-elments we need; this will help us easily lookup geolocation identifier codes."
   ]
  },
  {
   "cell_type": "code",
   "execution_count": 8,
   "metadata": {},
   "outputs": [],
   "source": [
    "woeid_dict = dict()\n",
    "for i in woe_avail:\n",
    "    woeid_dict[i.get('name')] = i.get('woeid')"
   ]
  },
  {
   "cell_type": "markdown",
   "metadata": {},
   "source": [
    "To test our result, we can try printing the first few key:value pairs from our __woeid_dict__ dictionary..."
   ]
  },
  {
   "cell_type": "code",
   "execution_count": 9,
   "metadata": {
    "scrolled": true
   },
   "outputs": [
    {
     "name": "stdout",
     "output_type": "stream",
     "text": [
      "key Worldwide, value 1 \n",
      "key Winnipeg, value 2972 \n",
      "key Ottawa, value 3369 \n"
     ]
    }
   ],
   "source": [
    "for x in list(woeid_dict)[0:3]:\n",
    "    print (\"key {}, value {} \".format(x,  woeid_dict[x]))"
   ]
  },
  {
   "cell_type": "markdown",
   "metadata": {},
   "source": [
    "Looking great! Now that we have a dictonary we can use to lookup goelocation identifiers, let's use it find out what is currently on people's minds as posted from the Milwaukee, WI, USA geolocation (my home city)!\n",
    "\n",
    "First, we can pass the \"Milwaukee\" key to our newly formed WOEID dictionary to learn Milwaukee's specific ID..."
   ]
  },
  {
   "cell_type": "code",
   "execution_count": 10,
   "metadata": {
    "scrolled": true
   },
   "outputs": [
    {
     "data": {
      "text/plain": [
       "2451822"
      ]
     },
     "execution_count": 10,
     "metadata": {},
     "output_type": "execute_result"
    }
   ],
   "source": [
    "woeid_dict['Milwaukee']"
   ]
  },
  {
   "cell_type": "markdown",
   "metadata": {},
   "source": [
    "Next, let's use that identifier and the __trends_place__ function of our Twitter API to tune into Milwaukee-based posts..."
   ]
  },
  {
   "cell_type": "code",
   "execution_count": 11,
   "metadata": {},
   "outputs": [],
   "source": [
    "mketrends = api.get_place_trends(id = '2451822' )"
   ]
  },
  {
   "cell_type": "markdown",
   "metadata": {},
   "source": [
    "Great, we've captured Milwaukee trends data in our local project variable __mketrends__. Let's see what our variable now contains!\n",
    "\n",
    "First let's confirm the type of object we've captured by using Python's __type()__ function..."
   ]
  },
  {
   "cell_type": "code",
   "execution_count": 12,
   "metadata": {
    "scrolled": true
   },
   "outputs": [
    {
     "data": {
      "text/plain": [
       "list"
      ]
     },
     "execution_count": 12,
     "metadata": {},
     "output_type": "execute_result"
    }
   ],
   "source": [
    "type(mketrends)"
   ]
  },
  {
   "cell_type": "markdown",
   "metadata": {},
   "source": [
    "Looks like we have a list! We can learn more about our list by using the __len()__ function to determine the size and the __type()__ function again to learn what type of objects the list contains..."
   ]
  },
  {
   "cell_type": "code",
   "execution_count": 13,
   "metadata": {},
   "outputs": [
    {
     "data": {
      "text/plain": [
       "1"
      ]
     },
     "execution_count": 13,
     "metadata": {},
     "output_type": "execute_result"
    }
   ],
   "source": [
    "len(mketrends)"
   ]
  },
  {
   "cell_type": "markdown",
   "metadata": {},
   "source": [
    "So we have a list of one element. Let's check out what type of element the list contains using __type()__ on the single member (found at location index 0)...."
   ]
  },
  {
   "cell_type": "code",
   "execution_count": 14,
   "metadata": {},
   "outputs": [
    {
     "data": {
      "text/plain": [
       "dict"
      ]
     },
     "execution_count": 14,
     "metadata": {},
     "output_type": "execute_result"
    }
   ],
   "source": [
    "type(mketrends[0])"
   ]
  },
  {
   "cell_type": "code",
   "execution_count": 15,
   "metadata": {},
   "outputs": [
    {
     "data": {
      "text/plain": [
       "list"
      ]
     },
     "execution_count": 15,
     "metadata": {},
     "output_type": "execute_result"
    }
   ],
   "source": [
    "type(mketrends[0][\"trends\"])"
   ]
  },
  {
   "cell_type": "code",
   "execution_count": 16,
   "metadata": {},
   "outputs": [
    {
     "data": {
      "text/plain": [
       "50"
      ]
     },
     "execution_count": 16,
     "metadata": {},
     "output_type": "execute_result"
    }
   ],
   "source": [
    "len(mketrends[0][\"trends\"])"
   ]
  },
  {
   "cell_type": "code",
   "execution_count": 17,
   "metadata": {
    "scrolled": true
   },
   "outputs": [
    {
     "data": {
      "text/plain": [
       "{'name': 'Broncos',\n",
       " 'url': 'http://twitter.com/search?q=Broncos',\n",
       " 'promoted_content': None,\n",
       " 'query': 'Broncos',\n",
       " 'tweet_volume': 78989}"
      ]
     },
     "execution_count": 17,
     "metadata": {},
     "output_type": "execute_result"
    }
   ],
   "source": [
    "mketrends[0][\"trends\"][0]"
   ]
  },
  {
   "cell_type": "markdown",
   "metadata": {},
   "source": [
    "To make things a little prettier, let's send our __\"trends\"__ dictionary list to our __Pandas__ library to generate a tabular data frame. We'll sort our result so top value are listed first and, for brevity's sake, retrieve only our top 10 Milwaukee trends below."
   ]
  },
  {
   "cell_type": "code",
   "execution_count": 37,
   "metadata": {},
   "outputs": [
    {
     "name": "stdout",
     "output_type": "stream",
     "text": [
      "2022-10-07T02:24:07Z\n"
     ]
    },
    {
     "data": {
      "text/html": [
       "<div>\n",
       "<style scoped>\n",
       "    .dataframe tbody tr th:only-of-type {\n",
       "        vertical-align: middle;\n",
       "    }\n",
       "\n",
       "    .dataframe tbody tr th {\n",
       "        vertical-align: top;\n",
       "    }\n",
       "\n",
       "    .dataframe thead th {\n",
       "        text-align: right;\n",
       "    }\n",
       "</style>\n",
       "<table border=\"1\" class=\"dataframe\">\n",
       "  <thead>\n",
       "    <tr style=\"text-align: right;\">\n",
       "      <th></th>\n",
       "      <th>name</th>\n",
       "      <th>url</th>\n",
       "      <th>promoted_content</th>\n",
       "      <th>query</th>\n",
       "      <th>tweet_volume</th>\n",
       "    </tr>\n",
       "  </thead>\n",
       "  <tbody>\n",
       "    <tr>\n",
       "      <th>1</th>\n",
       "      <td>Mario</td>\n",
       "      <td>http://twitter.com/search?q=Mario</td>\n",
       "      <td>None</td>\n",
       "      <td>Mario</td>\n",
       "      <td>734303.0</td>\n",
       "    </tr>\n",
       "    <tr>\n",
       "      <th>2</th>\n",
       "      <td>Marijuana</td>\n",
       "      <td>http://twitter.com/search?q=Marijuana</td>\n",
       "      <td>None</td>\n",
       "      <td>Marijuana</td>\n",
       "      <td>459478.0</td>\n",
       "    </tr>\n",
       "    <tr>\n",
       "      <th>3</th>\n",
       "      <td>Bowser</td>\n",
       "      <td>http://twitter.com/search?q=Bowser</td>\n",
       "      <td>None</td>\n",
       "      <td>Bowser</td>\n",
       "      <td>170388.0</td>\n",
       "    </tr>\n",
       "    <tr>\n",
       "      <th>4</th>\n",
       "      <td>Hunter Biden</td>\n",
       "      <td>http://twitter.com/search?q=%22Hunter+Biden%22</td>\n",
       "      <td>None</td>\n",
       "      <td>%22Hunter+Biden%22</td>\n",
       "      <td>144269.0</td>\n",
       "    </tr>\n",
       "    <tr>\n",
       "      <th>5</th>\n",
       "      <td>Chris Pratt</td>\n",
       "      <td>http://twitter.com/search?q=%22Chris+Pratt%22</td>\n",
       "      <td>None</td>\n",
       "      <td>%22Chris+Pratt%22</td>\n",
       "      <td>131136.0</td>\n",
       "    </tr>\n",
       "    <tr>\n",
       "      <th>6</th>\n",
       "      <td>Jack Black</td>\n",
       "      <td>http://twitter.com/search?q=%22Jack+Black%22</td>\n",
       "      <td>None</td>\n",
       "      <td>%22Jack+Black%22</td>\n",
       "      <td>89511.0</td>\n",
       "    </tr>\n",
       "    <tr>\n",
       "      <th>7</th>\n",
       "      <td>Broncos</td>\n",
       "      <td>http://twitter.com/search?q=Broncos</td>\n",
       "      <td>None</td>\n",
       "      <td>Broncos</td>\n",
       "      <td>78989.0</td>\n",
       "    </tr>\n",
       "    <tr>\n",
       "      <th>8</th>\n",
       "      <td>Luigi</td>\n",
       "      <td>http://twitter.com/search?q=Luigi</td>\n",
       "      <td>None</td>\n",
       "      <td>Luigi</td>\n",
       "      <td>51282.0</td>\n",
       "    </tr>\n",
       "    <tr>\n",
       "      <th>9</th>\n",
       "      <td>Primetime</td>\n",
       "      <td>http://twitter.com/search?q=Primetime</td>\n",
       "      <td>None</td>\n",
       "      <td>Primetime</td>\n",
       "      <td>30060.0</td>\n",
       "    </tr>\n",
       "    <tr>\n",
       "      <th>10</th>\n",
       "      <td>Matt Ryan</td>\n",
       "      <td>http://twitter.com/search?q=%22Matt+Ryan%22</td>\n",
       "      <td>None</td>\n",
       "      <td>%22Matt+Ryan%22</td>\n",
       "      <td>24912.0</td>\n",
       "    </tr>\n",
       "  </tbody>\n",
       "</table>\n",
       "</div>"
      ],
      "text/plain": [
       "            name                                             url  \\\n",
       "1          Mario               http://twitter.com/search?q=Mario   \n",
       "2      Marijuana           http://twitter.com/search?q=Marijuana   \n",
       "3         Bowser              http://twitter.com/search?q=Bowser   \n",
       "4   Hunter Biden  http://twitter.com/search?q=%22Hunter+Biden%22   \n",
       "5    Chris Pratt   http://twitter.com/search?q=%22Chris+Pratt%22   \n",
       "6     Jack Black    http://twitter.com/search?q=%22Jack+Black%22   \n",
       "7        Broncos             http://twitter.com/search?q=Broncos   \n",
       "8          Luigi               http://twitter.com/search?q=Luigi   \n",
       "9      Primetime           http://twitter.com/search?q=Primetime   \n",
       "10     Matt Ryan     http://twitter.com/search?q=%22Matt+Ryan%22   \n",
       "\n",
       "   promoted_content               query  tweet_volume  \n",
       "1              None               Mario      734303.0  \n",
       "2              None           Marijuana      459478.0  \n",
       "3              None              Bowser      170388.0  \n",
       "4              None  %22Hunter+Biden%22      144269.0  \n",
       "5              None   %22Chris+Pratt%22      131136.0  \n",
       "6              None    %22Jack+Black%22       89511.0  \n",
       "7              None             Broncos       78989.0  \n",
       "8              None               Luigi       51282.0  \n",
       "9              None           Primetime       30060.0  \n",
       "10             None     %22Matt+Ryan%22       24912.0  "
      ]
     },
     "execution_count": 37,
     "metadata": {},
     "output_type": "execute_result"
    }
   ],
   "source": [
    "trends_data_frame_mke = pd.DataFrame.from_dict(mketrends[0][\"trends\"])\n",
    "trends_data_frame_mke.sort_values(\"tweet_volume\", inplace = True, ascending = False)\n",
    "trends_data_frame_mke.index = range(1,len(trends_data_frame_mke)+1)\n",
    "\n",
    "print(mketrends[0][\"as_of\"])\n",
    "trends_data_frame_mke.iloc[:10]"
   ]
  },
  {
   "cell_type": "markdown",
   "metadata": {},
   "source": [
    "**Table attribute descriptions...**  \n",
    "name: trending term  \n",
    "url: trend url  \n",
    "promoted_content: has tweet content been purchased by an organization  \n",
    "query: query string related to trend  \n",
    "tweet_volume: number of tweets within a 24-hour period   "
   ]
  },
  {
   "cell_type": "markdown",
   "metadata": {},
   "source": [
    "And now let's repeat these steps for worldwide trends..."
   ]
  },
  {
   "cell_type": "code",
   "execution_count": 38,
   "metadata": {},
   "outputs": [
    {
     "name": "stdout",
     "output_type": "stream",
     "text": [
      "2022-10-07T02:45:41Z\n"
     ]
    },
    {
     "data": {
      "text/html": [
       "<div>\n",
       "<style scoped>\n",
       "    .dataframe tbody tr th:only-of-type {\n",
       "        vertical-align: middle;\n",
       "    }\n",
       "\n",
       "    .dataframe tbody tr th {\n",
       "        vertical-align: top;\n",
       "    }\n",
       "\n",
       "    .dataframe thead th {\n",
       "        text-align: right;\n",
       "    }\n",
       "</style>\n",
       "<table border=\"1\" class=\"dataframe\">\n",
       "  <thead>\n",
       "    <tr style=\"text-align: right;\">\n",
       "      <th></th>\n",
       "      <th>name</th>\n",
       "      <th>url</th>\n",
       "      <th>promoted_content</th>\n",
       "      <th>query</th>\n",
       "      <th>tweet_volume</th>\n",
       "    </tr>\n",
       "  </thead>\n",
       "  <tbody>\n",
       "    <tr>\n",
       "      <th>1</th>\n",
       "      <td>Mario</td>\n",
       "      <td>http://twitter.com/search?q=Mario</td>\n",
       "      <td>None</td>\n",
       "      <td>Mario</td>\n",
       "      <td>755061.0</td>\n",
       "    </tr>\n",
       "    <tr>\n",
       "      <th>2</th>\n",
       "      <td>Bowser</td>\n",
       "      <td>http://twitter.com/search?q=Bowser</td>\n",
       "      <td>None</td>\n",
       "      <td>Bowser</td>\n",
       "      <td>174058.0</td>\n",
       "    </tr>\n",
       "    <tr>\n",
       "      <th>3</th>\n",
       "      <td>Hunter Biden</td>\n",
       "      <td>http://twitter.com/search?q=%22Hunter+Biden%22</td>\n",
       "      <td>None</td>\n",
       "      <td>%22Hunter+Biden%22</td>\n",
       "      <td>147895.0</td>\n",
       "    </tr>\n",
       "    <tr>\n",
       "      <th>4</th>\n",
       "      <td>Chris Pratt</td>\n",
       "      <td>http://twitter.com/search?q=%22Chris+Pratt%22</td>\n",
       "      <td>None</td>\n",
       "      <td>%22Chris+Pratt%22</td>\n",
       "      <td>134123.0</td>\n",
       "    </tr>\n",
       "    <tr>\n",
       "      <th>5</th>\n",
       "      <td>Broncos</td>\n",
       "      <td>http://twitter.com/search?q=Broncos</td>\n",
       "      <td>None</td>\n",
       "      <td>Broncos</td>\n",
       "      <td>93681.0</td>\n",
       "    </tr>\n",
       "    <tr>\n",
       "      <th>6</th>\n",
       "      <td>Jack Black</td>\n",
       "      <td>http://twitter.com/search?q=%22Jack+Black%22</td>\n",
       "      <td>None</td>\n",
       "      <td>%22Jack+Black%22</td>\n",
       "      <td>91428.0</td>\n",
       "    </tr>\n",
       "    <tr>\n",
       "      <th>7</th>\n",
       "      <td>La Plata</td>\n",
       "      <td>http://twitter.com/search?q=%22La+Plata%22</td>\n",
       "      <td>None</td>\n",
       "      <td>%22La+Plata%22</td>\n",
       "      <td>74891.0</td>\n",
       "    </tr>\n",
       "    <tr>\n",
       "      <th>8</th>\n",
       "      <td>Gimnasia</td>\n",
       "      <td>http://twitter.com/search?q=Gimnasia</td>\n",
       "      <td>None</td>\n",
       "      <td>Gimnasia</td>\n",
       "      <td>63408.0</td>\n",
       "    </tr>\n",
       "    <tr>\n",
       "      <th>9</th>\n",
       "      <td>Luigi</td>\n",
       "      <td>http://twitter.com/search?q=Luigi</td>\n",
       "      <td>None</td>\n",
       "      <td>Luigi</td>\n",
       "      <td>53060.0</td>\n",
       "    </tr>\n",
       "    <tr>\n",
       "      <th>10</th>\n",
       "      <td>Endrick</td>\n",
       "      <td>http://twitter.com/search?q=Endrick</td>\n",
       "      <td>None</td>\n",
       "      <td>Endrick</td>\n",
       "      <td>33984.0</td>\n",
       "    </tr>\n",
       "  </tbody>\n",
       "</table>\n",
       "</div>"
      ],
      "text/plain": [
       "            name                                             url  \\\n",
       "1          Mario               http://twitter.com/search?q=Mario   \n",
       "2         Bowser              http://twitter.com/search?q=Bowser   \n",
       "3   Hunter Biden  http://twitter.com/search?q=%22Hunter+Biden%22   \n",
       "4    Chris Pratt   http://twitter.com/search?q=%22Chris+Pratt%22   \n",
       "5        Broncos             http://twitter.com/search?q=Broncos   \n",
       "6     Jack Black    http://twitter.com/search?q=%22Jack+Black%22   \n",
       "7       La Plata      http://twitter.com/search?q=%22La+Plata%22   \n",
       "8       Gimnasia            http://twitter.com/search?q=Gimnasia   \n",
       "9          Luigi               http://twitter.com/search?q=Luigi   \n",
       "10       Endrick             http://twitter.com/search?q=Endrick   \n",
       "\n",
       "   promoted_content               query  tweet_volume  \n",
       "1              None               Mario      755061.0  \n",
       "2              None              Bowser      174058.0  \n",
       "3              None  %22Hunter+Biden%22      147895.0  \n",
       "4              None   %22Chris+Pratt%22      134123.0  \n",
       "5              None             Broncos       93681.0  \n",
       "6              None    %22Jack+Black%22       91428.0  \n",
       "7              None      %22La+Plata%22       74891.0  \n",
       "8              None            Gimnasia       63408.0  \n",
       "9              None               Luigi       53060.0  \n",
       "10             None             Endrick       33984.0  "
      ]
     },
     "execution_count": 38,
     "metadata": {},
     "output_type": "execute_result"
    }
   ],
   "source": [
    "worldtrends = api.get_place_trends(id = '1' )\n",
    "trends_data_frame_world = pd.DataFrame.from_dict(worldtrends[0][\"trends\"])\n",
    "\n",
    "trends_data_frame_world.sort_values(\"tweet_volume\", inplace = True, ascending = False)\n",
    "trends_data_frame_world.index = range(1,len(trends_data_frame_world)+1)\n",
    "\n",
    "print(worldtrends[0][\"as_of\"])\n",
    "trends_data_frame_world.iloc[:10]"
   ]
  },
  {
   "cell_type": "markdown",
   "metadata": {},
   "source": [
    "**Table attribute descriptions...**  \n",
    "name: trending term  \n",
    "url: trend url  \n",
    "promoted_content: has tweet content been purchased by an organization  \n",
    "query: query string related to trend  \n",
    "tweet_volume: number of tweets within a 24-hour period  "
   ]
  },
  {
   "cell_type": "markdown",
   "metadata": {},
   "source": [
    "# Finding Common Trends"
   ]
  },
  {
   "cell_type": "markdown",
   "metadata": {},
   "source": [
    "Now that we've seperately extracted the top common trends in  Milwaukee and worldwide, let's see if there are are any overlapping topics. Below code converts our Milwaukee and worldwide trend series into lists, then compares Milwaukee trend topics to topics trending world-wide. \n",
    "\n",
    "The final result is a list of trending topics associated with both geolocations!"
   ]
  },
  {
   "cell_type": "code",
   "execution_count": 45,
   "metadata": {
    "scrolled": false
   },
   "outputs": [
    {
     "name": "stdout",
     "output_type": "stream",
     "text": [
      "['Mario', 'Bowser', 'Hunter Biden', 'Chris Pratt', 'Jack Black', 'Broncos', 'Luigi', 'Matt Ryan', 'Hines', 'Saweetie', 'Armageddon', 'Quavo', 'Blake Masters', 'Mark Kelly', 'Commanders', '#ThursdayNightFootball', '#INDvsDEN', 'Al Michaels', 'Hackett', 'Judy Tenuta', 'Matty Ice', 'Sutton', 'Frank Reich', 'Graphic B', 'Melvin Gordon', 'Nick Foles', 'Drew Lock']\n"
     ]
    }
   ],
   "source": [
    "mke_world_common_trends = []\n",
    "for name in trends_data_frame_mke.name.tolist():\n",
    "    if name in  trends_data_frame_world.name.tolist():\n",
    "        mke_world_common_trends.append(name)\n",
    "        \n",
    "print(mke_world_common_trends)"
   ]
  },
  {
   "cell_type": "code",
   "execution_count": 40,
   "metadata": {},
   "outputs": [
    {
     "data": {
      "text/plain": [
       "{'Mario': [734303.0, 755061.0],\n",
       " 'Bowser': [170388.0, 174058.0],\n",
       " 'Hunter Biden': [144269.0, 147895.0],\n",
       " 'Chris Pratt': [131136.0, 134123.0],\n",
       " 'Jack Black': [89511.0, 91428.0],\n",
       " 'Broncos': [78989.0, 93681.0],\n",
       " 'Luigi': [51282.0, 53060.0],\n",
       " 'Matt Ryan': [24912.0, 33029.0],\n",
       " 'Hines': [22555.0, 23229.0],\n",
       " 'Saweetie': [22018.0, 23966.0],\n",
       " 'Armageddon': [21099.0, 25406.0],\n",
       " 'Quavo': [18614.0, 19959.0],\n",
       " 'Blake Masters': [15312.0, 18365.0],\n",
       " 'Mark Kelly': [14256.0, 16855.0],\n",
       " 'Commanders': [12279.0, 13324.0],\n",
       " '#ThursdayNightFootball': [nan, nan],\n",
       " '#INDvsDEN': [nan, nan],\n",
       " 'Al Michaels': [nan, nan],\n",
       " 'Hackett': [nan, nan],\n",
       " 'Judy Tenuta': [nan, nan],\n",
       " 'Matty Ice': [nan, nan],\n",
       " 'Sutton': [nan, 10402.0],\n",
       " 'Frank Reich': [nan, nan],\n",
       " 'Graphic B': [nan, nan],\n",
       " 'Melvin Gordon': [nan, nan],\n",
       " 'Nick Foles': [nan, nan],\n",
       " 'Drew Lock': [nan, nan]}"
      ]
     },
     "execution_count": 40,
     "metadata": {},
     "output_type": "execute_result"
    }
   ],
   "source": [
    "common_trend_dict ={}\n",
    "\n",
    "for trend in mke_world_common_trends:\n",
    "    mke_volume = trends_data_frame_mke.loc[trends_data_frame_mke.name == trend,\"tweet_volume\"].tolist()[0]\n",
    "    world_volume = trends_data_frame_world.loc[trends_data_frame_world.name == trend, \"tweet_volume\"].tolist()[0]\n",
    "    common_trend_dict[trend] = [mke_volume, world_volume]\n",
    "    \n",
    "common_trend_dict"
   ]
  },
  {
   "cell_type": "markdown",
   "metadata": {},
   "source": [
    "Very cool! We now have some neat insight into what individuals tweeting from Milwaukee specifically and the rest of the world appear to have in common. This pipeline can be run on-demand as desired. \n",
    "\n",
    "Some other features to impliment could include:  \n",
    "* Manual estimations of tweet volumes where tweet_volume is not available\n",
    "* Image scraping for specific trends"
   ]
  }
 ],
 "metadata": {
  "kernelspec": {
   "display_name": "Python 3 (ipykernel)",
   "language": "python",
   "name": "python3"
  },
  "language_info": {
   "codemirror_mode": {
    "name": "ipython",
    "version": 3
   },
   "file_extension": ".py",
   "mimetype": "text/x-python",
   "name": "python",
   "nbconvert_exporter": "python",
   "pygments_lexer": "ipython3",
   "version": "3.9.7"
  }
 },
 "nbformat": 4,
 "nbformat_minor": 4
}
